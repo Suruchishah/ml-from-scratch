{
  "nbformat": 4,
  "nbformat_minor": 0,
  "metadata": {
    "colab": {
      "provenance": []
    },
    "kernelspec": {
      "name": "python3",
      "display_name": "Python 3"
    },
    "language_info": {
      "name": "python"
    }
  },
  "cells": [
    {
      "cell_type": "code",
      "execution_count": null,
      "metadata": {
        "id": "MLrzQY3CH6AR"
      },
      "outputs": [],
      "source": []
    },
    {
      "cell_type": "markdown",
      "source": [
        "📘 PART 1: NumPy – Numerical Python\n",
        "NumPy is used for:\n",
        "\n",
        "Fast array operations\n",
        "\n",
        "Working with vectors, matrices, and tensors\n",
        "\n",
        "Mathematical & statistical functions"
      ],
      "metadata": {
        "id": "7pKGZErkIAbi"
      }
    },
    {
      "cell_type": "code",
      "source": [
        "import numpy as np\n",
        "arr1=np.array([1,2,3])\n",
        "print(\"1D array:\",arr1)"
      ],
      "metadata": {
        "colab": {
          "base_uri": "https://localhost:8080/"
        },
        "id": "CwJgM_gzH_fD",
        "outputId": "657e6158-12c7-41f3-99a1-801901b03b1b"
      },
      "execution_count": 2,
      "outputs": [
        {
          "output_type": "stream",
          "name": "stdout",
          "text": [
            "1D array: [1 2 3]\n"
          ]
        }
      ]
    },
    {
      "cell_type": "code",
      "source": [
        "arr2 = np.array([[1, 2, 3], [4, 5, 6]])\n",
        "print(\"2D Array:\\n\", arr2)"
      ],
      "metadata": {
        "colab": {
          "base_uri": "https://localhost:8080/"
        },
        "id": "NI7hiF0OITDo",
        "outputId": "4c9fcb49-b854-4141-9130-be7212038afa"
      },
      "execution_count": 3,
      "outputs": [
        {
          "output_type": "stream",
          "name": "stdout",
          "text": [
            "2D Array:\n",
            " [[1 2 3]\n",
            " [4 5 6]]\n"
          ]
        }
      ]
    },
    {
      "cell_type": "code",
      "source": [
        "#Step 1.2: Array Properties\n",
        "print(\"Shape\",arr2.shape)\n",
        "print(\"Size\",arr2.size)\n",
        "print(\"datatype\",arr2.dtype)"
      ],
      "metadata": {
        "colab": {
          "base_uri": "https://localhost:8080/"
        },
        "id": "SAqQFLjcIcor",
        "outputId": "5823f1ec-0f82-4f86-92f5-3a23ab858757"
      },
      "execution_count": 4,
      "outputs": [
        {
          "output_type": "stream",
          "name": "stdout",
          "text": [
            "Shape (2, 3)\n",
            "Size 6\n",
            "datatype int64\n"
          ]
        }
      ]
    },
    {
      "cell_type": "code",
      "source": [
        "a = np.array([1, 2, 3])\n",
        "b = np.array([4, 5, 6])\n",
        "\n",
        "print(\"Addition:\", a + b)\n",
        "print(\"Multiplication:\", a * b)\n",
        "print(\"Dot Product:\", np.dot(a, b))\n"
      ],
      "metadata": {
        "colab": {
          "base_uri": "https://localhost:8080/"
        },
        "id": "TMBjGlyiIumA",
        "outputId": "13a506d9-b960-4a17-c1da-d3d25f7bbe88"
      },
      "execution_count": 5,
      "outputs": [
        {
          "output_type": "stream",
          "name": "stdout",
          "text": [
            "Addition: [5 7 9]\n",
            "Multiplication: [ 4 10 18]\n",
            "Dot Product: 32\n"
          ]
        }
      ]
    },
    {
      "cell_type": "code",
      "source": [
        "print(\"Zeros:\\n\", np.zeros((2, 3)))\n",
        "print(\"Ones:\\n\", np.ones((2, 2)))\n",
        "print(\"Random numbers:\\n\", np.random.rand(3))\n",
        "print(\"Range:\\n\", np.arange(0, 10, 2))  # 0 to 8, step 2\n"
      ],
      "metadata": {
        "colab": {
          "base_uri": "https://localhost:8080/"
        },
        "id": "lG3O1oKONSph",
        "outputId": "5118c257-ecd8-40b9-f694-c21233f88da0"
      },
      "execution_count": 6,
      "outputs": [
        {
          "output_type": "stream",
          "name": "stdout",
          "text": [
            "Zeros:\n",
            " [[0. 0. 0.]\n",
            " [0. 0. 0.]]\n",
            "Ones:\n",
            " [[1. 1.]\n",
            " [1. 1.]]\n",
            "Random numbers:\n",
            " [0.6437648  0.62324009 0.48840367]\n",
            "Range:\n",
            " [0 2 4 6 8]\n"
          ]
        }
      ]
    },
    {
      "cell_type": "code",
      "source": [
        "arr3 = np.array([[1,2,3],[4,5,6],[4,7,8]])\n",
        "print(arr3)"
      ],
      "metadata": {
        "colab": {
          "base_uri": "https://localhost:8080/"
        },
        "id": "lqC2PiOXNn0j",
        "outputId": "2c1abe99-ff80-4371-eb40-7b7caf909ece"
      },
      "execution_count": 8,
      "outputs": [
        {
          "output_type": "stream",
          "name": "stdout",
          "text": [
            "[[1 2 3]\n",
            " [4 5 6]\n",
            " [4 7 8]]\n"
          ]
        }
      ]
    },
    {
      "cell_type": "code",
      "source": [
        "print(arr3[1])"
      ],
      "metadata": {
        "colab": {
          "base_uri": "https://localhost:8080/"
        },
        "id": "uXow4HdMOI1G",
        "outputId": "d74880de-bf49-457a-def2-7c9b6af9a9ac"
      },
      "execution_count": 9,
      "outputs": [
        {
          "output_type": "stream",
          "name": "stdout",
          "text": [
            "[4 5 6]\n"
          ]
        }
      ]
    },
    {
      "cell_type": "code",
      "source": [
        "print(\"Value at [1,2]:\", arr3[1,2])"
      ],
      "metadata": {
        "colab": {
          "base_uri": "https://localhost:8080/"
        },
        "id": "N30eagZNOL7R",
        "outputId": "b3a9f00d-228b-4281-9537-cc71caf0fa24"
      },
      "execution_count": 11,
      "outputs": [
        {
          "output_type": "stream",
          "name": "stdout",
          "text": [
            "Value at [1,2]: 6\n"
          ]
        }
      ]
    },
    {
      "cell_type": "code",
      "source": [
        "#Array reshaping\n",
        "a = np.arange(6)\n",
        "a= a.reshape((2,3))\n",
        "print(a)"
      ],
      "metadata": {
        "colab": {
          "base_uri": "https://localhost:8080/"
        },
        "id": "tY2A0OJuOUZS",
        "outputId": "4de786e5-18b7-4d95-ffc3-eefc47516f57"
      },
      "execution_count": 13,
      "outputs": [
        {
          "output_type": "stream",
          "name": "stdout",
          "text": [
            "[[0 1 2]\n",
            " [3 4 5]]\n"
          ]
        }
      ]
    },
    {
      "cell_type": "code",
      "source": [
        "#Broadcasting\n",
        "a=np.array([1,2,3])\n",
        "b=2\n",
        "print(b+a)"
      ],
      "metadata": {
        "colab": {
          "base_uri": "https://localhost:8080/"
        },
        "id": "aJZYP9CXPM_b",
        "outputId": "126963b2-42f3-45ee-aaab-ea187d9e53dd"
      },
      "execution_count": 15,
      "outputs": [
        {
          "output_type": "stream",
          "name": "stdout",
          "text": [
            "[3 4 5]\n"
          ]
        }
      ]
    },
    {
      "cell_type": "code",
      "source": [
        "#3 Aggregation Functions\\\n",
        "arr = np.array([[1,2,3],[4,5,6]])\n",
        "print(arr.sum()) #total sum\n",
        "print(arr.sum(axis=0)) #column wise sum\n",
        "print(arr.sum(axis=1)) #row wise sum\n",
        "print(arr.min())\n",
        "print(arr.max())\n",
        "print(arr.mean())\n",
        "print(np.median(arr))\n",
        "print(np.std(arr))"
      ],
      "metadata": {
        "colab": {
          "base_uri": "https://localhost:8080/"
        },
        "id": "w7VoCm_YPgZp",
        "outputId": "e3367a7b-1a5f-472c-cf00-85979e0618be"
      },
      "execution_count": 16,
      "outputs": [
        {
          "output_type": "stream",
          "name": "stdout",
          "text": [
            "21\n",
            "[5 7 9]\n",
            "[ 6 15]\n",
            "1\n",
            "6\n",
            "3.5\n",
            "3.5\n",
            "1.707825127659933\n"
          ]
        }
      ]
    },
    {
      "cell_type": "code",
      "source": [
        "#Boolean Indexing (Very Powerful)\n",
        "arr = np.array([10, 20, 30, 40])\n",
        "print(arr[arr > 25])  # [30 40]\n"
      ],
      "metadata": {
        "colab": {
          "base_uri": "https://localhost:8080/"
        },
        "id": "Ze7fi7jvQOCU",
        "outputId": "2e22b8a4-ead4-4dc5-de25-3b0549b8f2fd"
      },
      "execution_count": 18,
      "outputs": [
        {
          "output_type": "stream",
          "name": "stdout",
          "text": [
            "[30 40]\n"
          ]
        }
      ]
    },
    {
      "cell_type": "markdown",
      "source": [
        "When learning a new function, always do:\n",
        "help(function_name)\n",
        "help(np.sum)\n",
        "sum(a, axis=None, dtype=None, out=None, keepdims=<no value>, ...)\n"
      ],
      "metadata": {
        "id": "iPGm54xNRbUA"
      }
    },
    {
      "cell_type": "code",
      "source": [],
      "metadata": {
        "colab": {
          "base_uri": "https://localhost:8080/"
        },
        "id": "cQGGh68TQVUk",
        "outputId": "6090bfbd-9bdf-4b5d-f99a-ee4764987937"
      },
      "execution_count": 20,
      "outputs": [
        {
          "output_type": "stream",
          "name": "stdout",
          "text": [
            "Help on _ArrayFunctionDispatcher in module numpy:\n",
            "\n",
            "median(a, axis=None, out=None, overwrite_input=False, keepdims=False)\n",
            "    Compute the median along the specified axis.\n",
            "    \n",
            "    Returns the median of the array elements.\n",
            "    \n",
            "    Parameters\n",
            "    ----------\n",
            "    a : array_like\n",
            "        Input array or object that can be converted to an array.\n",
            "    axis : {int, sequence of int, None}, optional\n",
            "        Axis or axes along which the medians are computed. The default,\n",
            "        axis=None, will compute the median along a flattened version of\n",
            "        the array.\n",
            "        \n",
            "        .. versionadded:: 1.9.0\n",
            "    \n",
            "        If a sequence of axes, the array is first flattened along the\n",
            "        given axes, then the median is computed along the resulting\n",
            "        flattened axis.\n",
            "    out : ndarray, optional\n",
            "        Alternative output array in which to place the result. It must\n",
            "        have the same shape and buffer length as the expected output,\n",
            "        but the type (of the output) will be cast if necessary.\n",
            "    overwrite_input : bool, optional\n",
            "       If True, then allow use of memory of input array `a` for\n",
            "       calculations. The input array will be modified by the call to\n",
            "       `median`. This will save memory when you do not need to preserve\n",
            "       the contents of the input array. Treat the input as undefined,\n",
            "       but it will probably be fully or partially sorted. Default is\n",
            "       False. If `overwrite_input` is ``True`` and `a` is not already an\n",
            "       `ndarray`, an error will be raised.\n",
            "    keepdims : bool, optional\n",
            "        If this is set to True, the axes which are reduced are left\n",
            "        in the result as dimensions with size one. With this option,\n",
            "        the result will broadcast correctly against the original `arr`.\n",
            "    \n",
            "        .. versionadded:: 1.9.0\n",
            "    \n",
            "    Returns\n",
            "    -------\n",
            "    median : ndarray\n",
            "        A new array holding the result. If the input contains integers\n",
            "        or floats smaller than ``float64``, then the output data-type is\n",
            "        ``np.float64``.  Otherwise, the data-type of the output is the\n",
            "        same as that of the input. If `out` is specified, that array is\n",
            "        returned instead.\n",
            "    \n",
            "    See Also\n",
            "    --------\n",
            "    mean, percentile\n",
            "    \n",
            "    Notes\n",
            "    -----\n",
            "    Given a vector ``V`` of length ``N``, the median of ``V`` is the\n",
            "    middle value of a sorted copy of ``V``, ``V_sorted`` - i\n",
            "    e., ``V_sorted[(N-1)/2]``, when ``N`` is odd, and the average of the\n",
            "    two middle values of ``V_sorted`` when ``N`` is even.\n",
            "    \n",
            "    Examples\n",
            "    --------\n",
            "    >>> a = np.array([[10, 7, 4], [3, 2, 1]])\n",
            "    >>> a\n",
            "    array([[10,  7,  4],\n",
            "           [ 3,  2,  1]])\n",
            "    >>> np.median(a)\n",
            "    np.float64(3.5)\n",
            "    >>> np.median(a, axis=0)\n",
            "    array([6.5, 4.5, 2.5])\n",
            "    >>> np.median(a, axis=1)\n",
            "    array([7.,  2.])\n",
            "    >>> np.median(a, axis=(0, 1))\n",
            "    np.float64(3.5)\n",
            "    >>> m = np.median(a, axis=0)\n",
            "    >>> out = np.zeros_like(m)\n",
            "    >>> np.median(a, axis=0, out=m)\n",
            "    array([6.5,  4.5,  2.5])\n",
            "    >>> m\n",
            "    array([6.5,  4.5,  2.5])\n",
            "    >>> b = a.copy()\n",
            "    >>> np.median(b, axis=1, overwrite_input=True)\n",
            "    array([7.,  2.])\n",
            "    >>> assert not np.all(a==b)\n",
            "    >>> b = a.copy()\n",
            "    >>> np.median(b, axis=None, overwrite_input=True)\n",
            "    np.float64(3.5)\n",
            "    >>> assert not np.all(a==b)\n",
            "\n"
          ]
        }
      ]
    },
    {
      "cell_type": "code",
      "source": [],
      "metadata": {
        "id": "dSLFWSIuRujL"
      },
      "execution_count": null,
      "outputs": []
    }
  ]
}